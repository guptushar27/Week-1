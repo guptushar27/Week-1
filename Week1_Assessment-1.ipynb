{
  "nbformat": 4,
  "nbformat_minor": 0,
  "metadata": {
    "colab": {
      "provenance": [],
      "authorship_tag": "ABX9TyPuUqK7Y81Jyat18PVrlB9U",
      "include_colab_link": true
    },
    "kernelspec": {
      "name": "python3",
      "display_name": "Python 3"
    },
    "language_info": {
      "name": "python"
    }
  },
  "cells": [
    {
      "cell_type": "markdown",
      "metadata": {
        "id": "view-in-github",
        "colab_type": "text"
      },
      "source": [
        "<a href=\"https://colab.research.google.com/github/guptushar27/Assignment-1-/blob/main/Week1_Assessment-1.ipynb\" target=\"_parent\"><img src=\"https://colab.research.google.com/assets/colab-badge.svg\" alt=\"Open In Colab\"/></a>"
      ]
    },
    {
      "cell_type": "code",
      "execution_count": 10,
      "metadata": {
        "colab": {
          "base_uri": "https://localhost:8080/"
        },
        "id": "6tbuAjdjPuMv",
        "outputId": "978f17aa-b32d-4664-d2f1-1a8f73b0fc6e"
      },
      "outputs": [
        {
          "output_type": "stream",
          "name": "stdout",
          "text": [
            "Collecting python-docx\n",
            "  Downloading python_docx-1.1.2-py3-none-any.whl.metadata (2.0 kB)\n",
            "Requirement already satisfied: lxml>=3.1.0 in /usr/local/lib/python3.11/dist-packages (from python-docx) (5.4.0)\n",
            "Requirement already satisfied: typing-extensions>=4.9.0 in /usr/local/lib/python3.11/dist-packages (from python-docx) (4.13.2)\n",
            "Downloading python_docx-1.1.2-py3-none-any.whl (244 kB)\n",
            "\u001b[?25l   \u001b[90m━━━━━━━━━━━━━━━━━━━━━━━━━━━━━━━━━━━━━━━━\u001b[0m \u001b[32m0.0/244.3 kB\u001b[0m \u001b[31m?\u001b[0m eta \u001b[36m-:--:--\u001b[0m\r\u001b[2K   \u001b[91m━━━━━━━━━━━━━━━━━━━━━━━━━━━━━━━━━━━━━━\u001b[0m\u001b[91m╸\u001b[0m\u001b[90m━\u001b[0m \u001b[32m235.5/244.3 kB\u001b[0m \u001b[31m11.6 MB/s\u001b[0m eta \u001b[36m0:00:01\u001b[0m\r\u001b[2K   \u001b[90m━━━━━━━━━━━━━━━━━━━━━━━━━━━━━━━━━━━━━━━━\u001b[0m \u001b[32m244.3/244.3 kB\u001b[0m \u001b[31m6.2 MB/s\u001b[0m eta \u001b[36m0:00:00\u001b[0m\n",
            "\u001b[?25hInstalling collected packages: python-docx\n",
            "Successfully installed python-docx-1.1.2\n"
          ]
        }
      ],
      "source": [
        "!pip install python-docx\n"
      ]
    },
    {
      "cell_type": "code",
      "source": [
        "import pandas as pd\n",
        "import numpy as np\n",
        "import matplotlib.pyplot as plt\n",
        "import seaborn as sns\n",
        "import warnings\n",
        "from docx import Document\n",
        "\n",
        "warnings.filterwarnings('ignore')"
      ],
      "metadata": {
        "id": "naRvJkVdQ-3x"
      },
      "execution_count": 11,
      "outputs": []
    },
    {
      "cell_type": "code",
      "source": [
        "\n",
        "doc = Document('Week1_Assessment.docx')\n",
        "\n",
        "text = \"\\n\".join([para.text for para in doc.paragraphs])\n",
        "\n",
        "print(text)\n",
        "\n"
      ],
      "metadata": {
        "colab": {
          "base_uri": "https://localhost:8080/"
        },
        "id": "AjFW1ayWRGdA",
        "outputId": "193efd2d-56f4-428a-c4f0-2b812c542c1e"
      },
      "execution_count": 15,
      "outputs": [
        {
          "output_type": "stream",
          "name": "stdout",
          "text": [
            "Week 1 Assessment - Machine Learning Basics\n",
            "What is Machine Learning?\n",
            "Machine Learning is a branch of Artificial Intelligence that enables systems to learn from data and improve their performance without being explicitly programmed. It involves designing algorithms that can identify patterns, make decisions, and adapt to new data over time. By analyzing historical data, these models can make accurate predictions or automate decision-making tasks. Machine Learning is widely used in various domains, including healthcare, finance, marketing, and robotics.\n",
            "What is a Supervised Machine Learning Algorithm?\n",
            "A supervised machine learning algorithm is one that learns from labeled datasets, meaning each training example is paired with an output label. The model's objective is to learn a mapping from input features to the correct output label, allowing it to make accurate predictions on unseen data. The learning process involves minimizing the error between the predicted and actual outputs. Supervised learning is particularly effective for problems where historical data contains clear, defined outcomes.\n",
            "\n",
            "Common supervised learning algorithms include:\n",
            "- Linear Regression\n",
            "- Logistic Regression\n",
            "- Decision Trees\n",
            "- Random Forests\n",
            "- Support Vector Machines (SVM)\n",
            "- k-Nearest Neighbors (k-NN)\n",
            "What is Regression and Classification?\n",
            "Regression\n",
            "Regression is a type of supervised learning technique used for predicting continuous numerical values. It estimates the relationship between input variables (independent variables) and a continuous target variable (dependent variable). The aim is to fit a model that minimizes the prediction error between the actual and predicted values. Regression is commonly used in forecasting, trend analysis, and risk assessment.\n",
            "\n",
            "Example applications:\n",
            "- Predicting housing prices\n",
            "- Estimating sales revenue\n",
            "- Forecasting temperature\n",
            "Classification\n",
            "Classification is another supervised learning technique where the goal is to assign input data into predefined categories or labels. Unlike regression, the output in classification is discrete. The model learns from labeled data and uses this knowledge to classify new instances accurately. It is widely used in scenarios where outcomes fall into distinct classes.\n",
            "\n",
            "Example applications:\n",
            "- Email spam detection (Spam or Not Spam)\n",
            "- Medical diagnosis (Positive or Negative)\n",
            "- Image recognition (Cat, Dog, or Bird)\n"
          ]
        }
      ]
    },
    {
      "cell_type": "code",
      "source": [
        "doc = Document('Week1_Assessment.docx')\n",
        "\n",
        "paragraphs = [para.text for para in doc.paragraphs if para.text.strip() != \"\"]\n",
        "\n",
        "for i, para in enumerate(paragraphs[:5]):\n",
        "    print(f\"{i+1}: {para}\")"
      ],
      "metadata": {
        "colab": {
          "base_uri": "https://localhost:8080/"
        },
        "id": "-2ld-YFWRpyQ",
        "outputId": "c797eef3-f8a6-41c4-a0db-5fe72b3f2d30"
      },
      "execution_count": 13,
      "outputs": [
        {
          "output_type": "stream",
          "name": "stdout",
          "text": [
            "1: Week 1 Assessment - Machine Learning Basics\n",
            "2: What is Machine Learning?\n",
            "3: Machine Learning is a branch of Artificial Intelligence that enables systems to learn from data and improve their performance without being explicitly programmed. It involves designing algorithms that can identify patterns, make decisions, and adapt to new data over time. By analyzing historical data, these models can make accurate predictions or automate decision-making tasks. Machine Learning is widely used in various domains, including healthcare, finance, marketing, and robotics.\n",
            "4: What is a Supervised Machine Learning Algorithm?\n",
            "5: A supervised machine learning algorithm is one that learns from labeled datasets, meaning each training example is paired with an output label. The model's objective is to learn a mapping from input features to the correct output label, allowing it to make accurate predictions on unseen data. The learning process involves minimizing the error between the predicted and actual outputs. Supervised learning is particularly effective for problems where historical data contains clear, defined outcomes.\n",
            "\n",
            "Common supervised learning algorithms include:\n",
            "- Linear Regression\n",
            "- Logistic Regression\n",
            "- Decision Trees\n",
            "- Random Forests\n",
            "- Support Vector Machines (SVM)\n",
            "- k-Nearest Neighbors (k-NN)\n"
          ]
        }
      ]
    },
    {
      "cell_type": "code",
      "source": [
        "\n",
        "\n",
        "doc = Document('Week1_Assessment.docx')\n",
        "\n",
        "paragraphs = [para.text for para in doc.paragraphs if para.text.strip() != \"\"]\n",
        "\n",
        "print(f\"Number of paragraphs: {len(paragraphs)}\")\n",
        "print(f\"Total word count: {sum(len(para.split()) for para in paragraphs)}\")\n"
      ],
      "metadata": {
        "colab": {
          "base_uri": "https://localhost:8080/"
        },
        "id": "--jlAzDHTOfT",
        "outputId": "34619710-919f-4858-9d73-84aac081eeb1"
      },
      "execution_count": 16,
      "outputs": [
        {
          "output_type": "stream",
          "name": "stdout",
          "text": [
            "Number of paragraphs: 10\n",
            "Total word count: 342\n"
          ]
        }
      ]
    },
    {
      "cell_type": "code",
      "source": [],
      "metadata": {
        "id": "EuAb4OHvTfeF"
      },
      "execution_count": null,
      "outputs": []
    }
  ]
}